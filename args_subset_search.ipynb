{
 "cells": [
  {
   "cell_type": "markdown",
   "metadata": {
    "tags": []
   },
   "source": [
    "# Finding argmin for int Functions by  Grover's Algorithm and Amplitude Amplification\n",
    "\n",
    "Grover's algorithm is one of the most famous quantum algorithms introduced by Lov Grover in 1996 \\[1\\]. It has initially been proposed for unstructured search problems, i.e. for finding a marked element in a unstructured database. However, Grover's algorithm is now a subroutine to several other algorithms, such as Grover Adaptive Search \\[2\\]. For the details of Grover's algorithm, please see [Grover's Algorithm](https://qiskit.org/textbook/ch-algorithms/grover.html) in the Qiskit textbook.\n",
    "\n",
    "Qiskit implements Grover's algorithm in the `Grover` class. This class also includes the generalized version, Amplitude Amplification \\[3\\], and allows setting individual iterations and other meta-settings to Grover's algorithm.\n",
    "\n",
    "**References:**\n",
    "\n",
    "\\[1\\]: L. K. Grover, A fast quantum mechanical algorithm for database search. Proceedings 28th Annual Symposium on\n",
    "the Theory of Computing (STOC) 1996, pp. 212-219. https://arxiv.org/abs/quant-ph/9605043\n",
    "\n",
    "\\[2\\]: A. Gilliam, S. Woerner, C. Gonciulea, Grover Adaptive Search for Constrained Polynomial Binary Optimization.\n",
    "https://arxiv.org/abs/1912.04088\n",
    "\n",
    "\n",
    "\\[3\\]: Brassard, G., Hoyer, P., Mosca, M., & Tapp, A. (2000). Quantum Amplitude Amplification and Estimation. http://arxiv.org/abs/quant-ph/0005055"
   ]
  },
  {
   "cell_type": "markdown",
   "metadata": {},
   "source": [
    "## Grover's algorithm\n",
    "\n",
    "Grover's algorithm uses the Grover operator $\\mathcal{Q}$ to amplify the amplitudes of the good states:\n",
    "\n",
    "$$\n",
    "    \\mathcal{Q} = \\mathcal{A}\\mathcal{S_0}\\mathcal{A}^\\dagger \\mathcal{S_f}\n",
    "$$\n",
    "\n",
    "Here, \n",
    "* $\\mathcal{A}$ is the initial search state for the algorithm, which is just Hadamards, $H^{\\otimes n}$ for the textbook Grover search, but can be more elaborate for Amplitude Amplification\n",
    "* $\\mathcal{S_0}$ is the reflection about the all 0 state\n",
    "$$\n",
    "    |x\\rangle \\mapsto \\begin{cases} -|x\\rangle, &x \\neq 0 \\\\ |x\\rangle, &x = 0\\end{cases}\n",
    "$$\n",
    "* $\\mathcal{S_f}$ is the oracle that applies \n",
    "$$\n",
    "    |x\\rangle \\mapsto (-1)^{f(x)}|x\\rangle\n",
    "$$ \n",
    "&nbsp;&nbsp;&nbsp;&nbsp;　where $f(x)$ is 1 if $x$ is a good state and otherwise 0.\n",
    "\n",
    "In a nutshell, Grover's algorithm applies different powers of $\\mathcal{Q}$ and after each execution checks whether a good solution has been found. "
   ]
  },
  {
   "cell_type": "markdown",
   "metadata": {},
   "source": [
    "Example oracle circuit:"
   ]
  },
  {
   "cell_type": "code",
   "execution_count": 648,
   "metadata": {},
   "outputs": [
    {
     "data": {
      "image/png": "[encoded data removed]",
      "text/plain": [
       "<Figure size 213.009x264.88 with 1 Axes>"
      ]
     },
     "execution_count": 648,
     "metadata": {},
     "output_type": "execute_result"
    }
   ],
   "source": [
    "from qiskit import QuantumCircuit, ClassicalRegister, QuantumRegister\n",
    "from qiskit.circuit.library import IntegerComparator\n",
    "from qiskit.visualization import plot_bloch_multivector, plot_histogram\n",
    "from qiskit import execute, Aer\n",
    "\n",
    "N = 4\n",
    "\n",
    "def oracle_fun_N_bit():\n",
    "    qr = QuantumRegister(N)\n",
    "    qc = QuantumCircuit(qr, name='oracle')\n",
    "    for idx in [0, 2]:#[0, 1, 3, 5, 7]:\n",
    "        qc.x(qr[idx])\n",
    "    return qc\n",
    "\n",
    "f = oracle_fun_N_bit()\n",
    "f.draw()"
   ]
  },
  {
   "cell_type": "markdown",
   "metadata": {},
   "source": [
    "To uncompute you should just apply oracle again"
   ]
  },
  {
   "cell_type": "markdown",
   "metadata": {},
   "source": [
    "Random arg func value sampling:"
   ]
  },
  {
   "cell_type": "code",
   "execution_count": 649,
   "metadata": {},
   "outputs": [
    {
     "data": {
      "image/png": "[encoded data removed]",
      "text/plain": [
       "<Figure size 574.354x325.08 with 1 Axes>"
      ]
     },
     "execution_count": 649,
     "metadata": {},
     "output_type": "execute_result"
    }
   ],
   "source": [
    "# Compute some random value out of oracle\n",
    "import numpy as np\n",
    "idxs = list(set(np.random.choice(range(N), N // 2)))\n",
    "\n",
    "# Init circuit\n",
    "qr = QuantumRegister(N)\n",
    "cr = ClassicalRegister(N)\n",
    "qc = QuantumCircuit(qr, cr)\n",
    "\n",
    "#  Put random value on it\n",
    "for idx in idxs:\n",
    "    qc.x(qr[idx])\n",
    "    \n",
    "# Put oracle on the circuit\n",
    "qc.append(f, range(N))\n",
    "qc.measure(qr, cr)\n",
    "qc.draw()"
   ]
  },
  {
   "cell_type": "code",
   "execution_count": 650,
   "metadata": {},
   "outputs": [
    {
     "data": {
      "text/plain": [
       "{'0111': 1024}"
      ]
     },
     "execution_count": 650,
     "metadata": {},
     "output_type": "execute_result"
    }
   ],
   "source": [
    "backend_sim = Aer.get_backend('qasm_simulator')\n",
    "job_sim = execute(qc, backend_sim)\n",
    "result_sim = job_sim.result()\n",
    "result_sim.get_counts()"
   ]
  },
  {
   "cell_type": "code",
   "execution_count": 651,
   "metadata": {},
   "outputs": [
    {
     "data": {
      "text/plain": [
       "(array([0, 0, 1, 0], dtype=int8), {'0111': 1024})"
      ]
     },
     "execution_count": 651,
     "metadata": {},
     "output_type": "execute_result"
    }
   ],
   "source": [
    "counts = result_sim.get_counts()\n",
    "\n",
    "input_ = np.zeros(N, dtype=np.int8)\n",
    "input_[idxs] = 1\n",
    "input_ = input_[::-1]\n",
    "\n",
    "input_, counts"
   ]
  },
  {
   "cell_type": "markdown",
   "metadata": {},
   "source": [
    "Decoded values:"
   ]
  },
  {
   "cell_type": "code",
   "execution_count": 652,
   "metadata": {},
   "outputs": [
    {
     "name": "stdout",
     "output_type": "stream",
     "text": [
      "input: 2, output: 7\n"
     ]
    }
   ],
   "source": [
    "input_ = np.zeros(8, dtype=np.int8)\n",
    "input_[idxs] = 1\n",
    "input_ = input_[::-1]\n",
    "\n",
    "input_ = int(''.join(map(str, input_)), 2)\n",
    "output = int(list(counts.keys())[0], 2)\n",
    "\n",
    "print(f'input: {input_}, output: {output}')"
   ]
  },
  {
   "cell_type": "markdown",
   "metadata": {},
   "source": [
    "### Bit flip oracle"
   ]
  },
  {
   "cell_type": "code",
   "execution_count": 653,
   "metadata": {},
   "outputs": [
    {
     "data": {
      "image/png": "[encoded data removed]",
      "text/plain": [
       "<Figure size 920.393x806.68 with 1 Axes>"
      ]
     },
     "execution_count": 653,
     "metadata": {},
     "output_type": "execute_result"
    }
   ],
   "source": [
    "inp = QuantumRegister(N, name='inp')\n",
    "f_oracle = QuantumRegister(N, name='oracle')\n",
    "buffer = QuantumRegister(N, name='buffer')\n",
    "\n",
    "c = ClassicalRegister(N + 1, name='cr')\n",
    "qc = QuantumCircuit(inp, f_oracle, buffer, c)\n",
    "\n",
    "val_to_cmp = 2**N - 6\n",
    "# Init input\n",
    "for i in range(N):\n",
    "    qc.h(inp[i])\n",
    "    # Entagle states\n",
    "    qc.cx(inp[i], f_oracle[i])\n",
    "    \n",
    "    \n",
    "qc.append(oracle_fun_N_bit(), range(N,2*N))\n",
    "qc.append(IntegerComparator(N, val_to_cmp),range(N, 3*N))\n",
    "\n",
    "qc.measure(inp, c[:N])\n",
    "qc.measure(buffer[0],c[N])\n",
    "\n",
    "qc.draw()"
   ]
  },
  {
   "cell_type": "markdown",
   "metadata": {},
   "source": [
    "Let's sample reference states by simply sampling solutions by flip qubit oracle"
   ]
  },
  {
   "cell_type": "code",
   "execution_count": 654,
   "metadata": {},
   "outputs": [],
   "source": [
    "backend_sim = Aer.get_backend('qasm_simulator')\n",
    "job_sim = execute(qc, backend_sim)\n",
    "result_sim = job_sim.result()\n",
    "#result_sim.get_counts()"
   ]
  },
  {
   "cell_type": "code",
   "execution_count": 655,
   "metadata": {},
   "outputs": [
    {
     "data": {
      "text/plain": [
       "['00001111', '00001010', '00001000', '00001011', '00001110', '00001001']"
      ]
     },
     "execution_count": 655,
     "metadata": {},
     "output_type": "execute_result"
    }
   ],
   "source": [
    "good_state = ['0'*N + x[1:] for x in result_sim.get_counts() if x[0] == '1']\n",
    "\n",
    "good_state"
   ]
  },
  {
   "cell_type": "markdown",
   "metadata": {
    "tags": []
   },
   "source": [
    "### Bit Flip Oracle to Phase Flip Oracle"
   ]
  },
  {
   "cell_type": "markdown",
   "metadata": {},
   "source": [
    "Code to make Phase Oracle out of Qbit Flip Oracle"
   ]
  },
  {
   "cell_type": "code",
   "execution_count": 656,
   "metadata": {},
   "outputs": [
    {
     "data": {
      "image/png": "[encoded data removed]",
      "text/plain": [
       "<Figure size 559.193x505.68 with 1 Axes>"
      ]
     },
     "execution_count": 656,
     "metadata": {},
     "output_type": "execute_result"
    }
   ],
   "source": [
    "from qiskit.circuit.library import ZGate\n",
    "\n",
    "def phase_flip_cmp(oracle_circuit):\n",
    "    f_oracle = QuantumRegister(N, name='oracle')\n",
    "    buffer = QuantumRegister(N, name='buffer')\n",
    "\n",
    "\n",
    "    qc = QuantumCircuit(f_oracle, buffer)\n",
    "\n",
    "    # Put result qbit in |-> state\n",
    "    qc.x(buffer[0])\n",
    "    qc.h(buffer[0])\n",
    "\n",
    "    qc.append(oracle_circuit, range(N))\n",
    "    qc.append(IntegerComparator(N, val_to_cmp),range(2*N))\n",
    "    #qc.append(ZGate().control(2), [0, 1, 2])\n",
    "    # Uncompute result qubit\n",
    "    qc.h(buffer[0])\n",
    "    qc.x(buffer[0])\n",
    "\n",
    "    # uncompute oracle\n",
    "    qc.append(oracle_circuit, range(N))\n",
    "    return qc\n",
    "\n",
    "oracle = phase_flip_cmp(oracle_fun_N_bit())\n",
    "oracle.draw()"
   ]
  },
  {
   "cell_type": "markdown",
   "metadata": {},
   "source": [
    "Let's define amplification problem"
   ]
  },
  {
   "cell_type": "code",
   "execution_count": 690,
   "metadata": {},
   "outputs": [],
   "source": [
    "from qiskit import QuantumCircuit\n",
    "from qiskit.algorithms import AmplificationProblem\n",
    "\n",
    "# define Grover's algorithm\n",
    "problem = AmplificationProblem(oracle, is_good_state=good_state)\n",
    "\n",
    "# now we can have a look at the Grover operator that is used in running the algorithm\n",
    "#problem.grover_operator.oracle.draw(output='mpl')"
   ]
  },
  {
   "cell_type": "code",
   "execution_count": 691,
   "metadata": {},
   "outputs": [],
   "source": [
    "from qiskit.circuit.library import GroverOperator\n",
    "\n",
    "grover_op = GroverOperator(oracle,reflection_qubits=list(range(N+1)), insert_barriers=True)\n",
    "problem.grover_operator = grover_op"
   ]
  },
  {
   "cell_type": "markdown",
   "metadata": {
    "tags": []
   },
   "source": [
    "### Groover Algo Illustrations"
   ]
  },
  {
   "cell_type": "code",
   "execution_count": 692,
   "metadata": {},
   "outputs": [
    {
     "data": {
      "image/png": "[encoded data removed]",
      "text/plain": [
       "<Figure size 427.114x505.68 with 1 Axes>"
      ]
     },
     "execution_count": 692,
     "metadata": {},
     "output_type": "execute_result"
    }
   ],
   "source": [
    "grover_op.zero_reflection.draw(output='mpl')"
   ]
  },
  {
   "cell_type": "code",
   "execution_count": 693,
   "metadata": {},
   "outputs": [
    {
     "data": {
      "image/png": "[encoded data removed]",
      "text/plain": [
       "<Figure size 146.797x505.68 with 1 Axes>"
      ]
     },
     "execution_count": 693,
     "metadata": {},
     "output_type": "execute_result"
    }
   ],
   "source": [
    "grover_op.state_preparation.draw(output='mpl')"
   ]
  },
  {
   "cell_type": "code",
   "execution_count": 694,
   "metadata": {},
   "outputs": [
    {
     "data": {
      "image/png": "[encoded data removed]",
      "text/plain": [
       "<Figure size 559.193x505.68 with 1 Axes>"
      ]
     },
     "execution_count": 694,
     "metadata": {},
     "output_type": "execute_result"
    }
   ],
   "source": [
    "problem.grover_operator.oracle.draw()"
   ]
  },
  {
   "cell_type": "markdown",
   "metadata": {},
   "source": [
    "### Results"
   ]
  },
  {
   "cell_type": "markdown",
   "metadata": {},
   "source": [
    "Launch Apmlification problem and measure results"
   ]
  },
  {
   "cell_type": "code",
   "execution_count": 695,
   "metadata": {},
   "outputs": [
    {
     "name": "stdout",
     "output_type": "stream",
     "text": [
      "Eval: True\n",
      "Top measurement: 00001011\n"
     ]
    }
   ],
   "source": [
    "from qiskit import Aer\n",
    "from qiskit.utils import QuantumInstance\n",
    "from qiskit.algorithms import Grover\n",
    "\n",
    "aer_simulator = Aer.get_backend('aer_simulator')\n",
    "grover = Grover(quantum_instance=aer_simulator, iterations=list(range(2*N)))\n",
    "result = grover.amplify(problem)\n",
    "\n",
    "print(f'Eval: {result.oracle_evaluation}')\n",
    "print('Top measurement:', result.top_measurement)"
   ]
  },
  {
   "cell_type": "code",
   "execution_count": null,
   "metadata": {},
   "outputs": [],
   "source": [
    "Last N qbits should be zero, otherwise CMP circuit work unexpectedly. Filter only valid solutions "
   ]
  },
  {
   "cell_type": "code",
   "execution_count": 696,
   "metadata": {},
   "outputs": [
    {
     "data": {
      "text/plain": [
       "{'00001011': 29,\n",
       " '00001010': 28,\n",
       " '00001000': 25,\n",
       " '00001111': 24,\n",
       " '00001110': 24,\n",
       " '00001001': 21,\n",
       " '00000111': 1,\n",
       " '00001101': 1,\n",
       " '00001100': 1,\n",
       " '00000000': 1}"
      ]
     },
     "execution_count": 696,
     "metadata": {},
     "output_type": "execute_result"
    }
   ],
   "source": [
    "res = {k: v for k, v in sorted(result.circuit_results[-1].items(), key=lambda item: -item[1]) if k[:N] == '0' * N}\n",
    "res"
   ]
  },
  {
   "cell_type": "code",
   "execution_count": 697,
   "metadata": {},
   "outputs": [
    {
     "name": "stdout",
     "output_type": "stream",
     "text": [
      "num: 00001111, rank: 24\n",
      "num: 00001010, rank: 28\n",
      "num: 00001000, rank: 25\n",
      "num: 00001011, rank: 29\n",
      "num: 00001110, rank: 24\n",
      "num: 00001001, rank: 21\n"
     ]
    }
   ],
   "source": [
    "for num in good_state:\n",
    "    print(f'num: {num}, rank: {res[num]}')"
   ]
  },
  {
   "cell_type": "code",
   "execution_count": 669,
   "metadata": {},
   "outputs": [
    {
     "name": "stdout",
     "output_type": "stream",
     "text": [
      "{   'assignment': '00001011',\n",
      "    'circuit_results': [   {   '00000000': 3,\n",
      "                               '00000001': 3,\n",
      "                               '00000010': 7,\n",
      "                               '00000011': 8,\n",
      "                               '00000100': 6,\n",
      "                               '00000101': 5,\n",
      "                               '00000110': 6,\n",
      "                               '00000111': 3,\n",
      "                               '00001000': 5,\n",
      "                               '00001001': 8,\n",
      "                               '00001010': 4,\n",
      "                               '00001011': 4,\n",
      "                               '00001100': 4,\n",
      "                               '00001101': 2,\n",
      "                               '00001110': 5,\n",
      "                               '00001111': 2,\n",
      "                               '00010000': 2,\n",
      "                               '00010001': 4,\n",
      "                               '00010010': 4,\n",
      "                               '00010011': 7,\n",
      "                               '00010100': 5,\n",
      "                               '00010101': 2,\n",
      "                               '00010110': 2,\n",
      "                               '00010111': 6,\n",
      "                               '00011000': 6,\n",
      "                               '00011001': 5,\n",
      "                               '00011010': 5,\n",
      "                               '00011011': 5,\n",
      "                               '00011100': 4,\n",
      "                               '00011101': 5,\n",
      "                               '00011110': 1,\n",
      "                               '00011111': 6,\n",
      "                               '00100000': 8,\n",
      "                               '00100010': 3,\n",
      "                               '00100011': 4,\n",
      "                               '00100100': 4,\n",
      "                               '00100101': 2,\n",
      "                               '00100110': 7,\n",
      "                               '00100111': 6,\n",
      "                               '00101000': 3,\n",
      "                               '00101001': 3,\n",
      "                               '00101010': 2,\n",
      "                               '00101011': 8,\n",
      "                               '00101100': 6,\n",
      "                               '00101101': 6,\n",
      "                               '00101110': 3,\n",
      "                               '00101111': 1,\n",
      "                               '00110000': 2,\n",
      "                               '00110001': 8,\n",
      "                               '00110010': 3,\n",
      "                               '00110011': 2,\n",
      "                               '00110100': 5,\n",
      "                               '00110101': 5,\n",
      "                               '00110110': 2,\n",
      "                               '00110111': 6,\n",
      "                               '00111000': 4,\n",
      "                               '00111001': 5,\n",
      "                               '00111010': 1,\n",
      "                               '00111011': 2,\n",
      "                               '00111100': 3,\n",
      "                               '00111101': 3,\n",
      "                               '00111110': 6,\n",
      "                               '00111111': 4,\n",
      "                               '01000000': 1,\n",
      "                               '01000001': 4,\n",
      "                               '01000010': 4,\n",
      "                               '01000011': 5,\n",
      "                               '01000100': 3,\n",
      "                               '01000101': 7,\n",
      "                               '01000110': 4,\n",
      "                               '01000111': 7,\n",
      "                               '01001000': 5,\n",
      "                               '01001001': 8,\n",
      "                               '01001010': 2,\n",
      "                               '01001011': 3,\n",
      "                               '01001100': 4,\n",
      "                               '01001101': 2,\n",
      "                               '01001110': 2,\n",
      "                               '01001111': 5,\n",
      "                               '01010000': 3,\n",
      "                               '01010001': 4,\n",
      "                               '01010010': 1,\n",
      "                               '01010011': 8,\n",
      "                               '01010100': 4,\n",
      "                               '01010101': 4,\n",
      "                               '01010110': 4,\n",
      "                               '01010111': 2,\n",
      "                               '01011000': 5,\n",
      "                               '01011001': 6,\n",
      "                               '01011010': 3,\n",
      "                               '01011011': 2,\n",
      "                               '01011100': 2,\n",
      "                               '01011101': 2,\n",
      "                               '01011110': 4,\n",
      "                               '01011111': 4,\n",
      "                               '01100000': 3,\n",
      "                               '01100001': 6,\n",
      "                               '01100010': 1,\n",
      "                               '01100011': 2,\n",
      "                               '01100101': 4,\n",
      "                               '01100110': 4,\n",
      "                               '01100111': 5,\n",
      "                               '01101000': 5,\n",
      "                               '01101001': 6,\n",
      "                               '01101010': 5,\n",
      "                               '01101011': 4,\n",
      "                               '01101101': 5,\n",
      "                               '01101110': 5,\n",
      "                               '01101111': 3,\n",
      "                               '01110000': 5,\n",
      "                               '01110001': 4,\n",
      "                               '01110010': 9,\n",
      "                               '01110011': 6,\n",
      "                               '01110101': 6,\n",
      "                               '01110110': 6,\n",
      "                               '01110111': 3,\n",
      "                               '01111000': 2,\n",
      "                               '01111001': 4,\n",
      "                               '01111010': 4,\n",
      "                               '01111011': 5,\n",
      "                               '01111100': 2,\n",
      "                               '01111101': 3,\n",
      "                               '01111110': 1,\n",
      "                               '01111111': 3,\n",
      "                               '10000000': 4,\n",
      "                               '10000001': 6,\n",
      "                               '10000010': 1,\n",
      "                               '10000011': 5,\n",
      "                               '10000100': 2,\n",
      "                               '10000101': 3,\n",
      "                               '10000110': 2,\n",
      "                               '10000111': 4,\n",
      "                               '10001000': 2,\n",
      "                               '10001001': 8,\n",
      "                               '10001010': 2,\n",
      "                               '10001011': 4,\n",
      "                               '10001100': 3,\n",
      "                               '10001101': 3,\n",
      "                               '10001110': 6,\n",
      "                               '10001111': 5,\n",
      "                               '10010000': 5,\n",
      "                               '10010001': 4,\n",
      "                               '10010010': 3,\n",
      "                               '10010011': 5,\n",
      "                               '10010100': 5,\n",
      "                               '10010101': 6,\n",
      "                               '10010110': 4,\n",
      "                               '10010111': 5,\n",
      "                               '10011000': 2,\n",
      "                               '10011001': 7,\n",
      "                               '10011010': 6,\n",
      "                               '10011011': 2,\n",
      "                               '10011100': 7,\n",
      "                               '10011101': 3,\n",
      "                               '10011110': 5,\n",
      "                               '10100000': 6,\n",
      "                               '10100001': 7,\n",
      "                               '10100010': 5,\n",
      "                               '10100011': 4,\n",
      "                               '10100100': 5,\n",
      "                               '10100101': 5,\n",
      "                               '10100110': 4,\n",
      "                               '10100111': 6,\n",
      "                               '10101000': 4,\n",
      "                               '10101001': 1,\n",
      "                               '10101010': 3,\n",
      "                               '10101011': 2,\n",
      "                               '10101100': 5,\n",
      "                               '10101101': 3,\n",
      "                               '10101111': 5,\n",
      "                               '10110000': 8,\n",
      "                               '10110001': 7,\n",
      "                               '10110010': 6,\n",
      "                               '10110011': 6,\n",
      "                               '10110100': 5,\n",
      "                               '10110101': 2,\n",
      "                               '10110110': 3,\n",
      "                               '10110111': 3,\n",
      "                               '10111000': 6,\n",
      "                               '10111001': 3,\n",
      "                               '10111010': 3,\n",
      "                               '10111011': 7,\n",
      "                               '10111100': 5,\n",
      "                               '10111101': 4,\n",
      "                               '10111110': 3,\n",
      "                               '10111111': 2,\n",
      "                               '11000000': 5,\n",
      "                               '11000001': 5,\n",
      "                               '11000010': 3,\n",
      "                               '11000011': 4,\n",
      "                               '11000100': 5,\n",
      "                               '11000101': 2,\n",
      "                               '11000110': 2,\n",
      "                               '11000111': 5,\n",
      "                               '11001000': 3,\n",
      "                               '11001001': 5,\n",
      "                               '11001010': 3,\n",
      "                               '11001011': 7,\n",
      "                               '11001101': 2,\n",
      "                               '11001110': 5,\n",
      "                               '11001111': 4,\n",
      "                               '11010000': 6,\n",
      "                               '11010001': 4,\n",
      "                               '11010010': 3,\n",
      "                               '11010011': 6,\n",
      "                               '11010100': 1,\n",
      "                               '11010101': 3,\n",
      "                               '11010110': 3,\n",
      "                               '11010111': 3,\n",
      "                               '11011000': 1,\n",
      "                               '11011001': 5,\n",
      "                               '11011010': 5,\n",
      "                               '11011011': 7,\n",
      "                               '11011100': 1,\n",
      "                               '11011101': 2,\n",
      "                               '11011110': 3,\n",
      "                               '11011111': 3,\n",
      "                               '11100000': 4,\n",
      "                               '11100001': 2,\n",
      "                               '11100010': 2,\n",
      "                               '11100011': 3,\n",
      "                               '11100100': 4,\n",
      "                               '11100101': 2,\n",
      "                               '11100110': 8,\n",
      "                               '11100111': 3,\n",
      "                               '11101000': 3,\n",
      "                               '11101001': 6,\n",
      "                               '11101010': 5,\n",
      "                               '11101011': 2,\n",
      "                               '11101100': 1,\n",
      "                               '11101101': 5,\n",
      "                               '11101110': 2,\n",
      "                               '11101111': 7,\n",
      "                               '11110000': 3,\n",
      "                               '11110001': 5,\n",
      "                               '11110010': 3,\n",
      "                               '11110011': 3,\n",
      "                               '11110100': 6,\n",
      "                               '11110101': 4,\n",
      "                               '11110110': 3,\n",
      "                               '11110111': 3,\n",
      "                               '11111000': 4,\n",
      "                               '11111001': 4,\n",
      "                               '11111010': 8,\n",
      "                               '11111011': 1,\n",
      "                               '11111100': 5,\n",
      "                               '11111101': 4,\n",
      "                               '11111110': 7,\n",
      "                               '11111111': 3},\n",
      "                           {   '00000000': 1,\n",
      "                               '00000001': 1,\n",
      "                               '00000010': 1,\n",
      "                               '00000011': 2,\n",
      "                               '00000100': 1,\n",
      "                               '00000110': 2,\n",
      "                               '00001000': 5,\n",
      "                               '00001001': 10,\n",
      "                               '00001010': 11,\n",
      "                               '00001011': 13,\n",
      "                               '00001101': 1,\n",
      "                               '00001110': 8,\n",
      "                               '00001111': 11,\n",
      "                               '00010000': 3,\n",
      "                               '00010001': 4,\n",
      "                               '00010010': 7,\n",
      "                               '00010011': 4,\n",
      "                               '00010100': 3,\n",
      "                               '00010101': 6,\n",
      "                               '00010110': 4,\n",
      "                               '00010111': 4,\n",
      "                               '00011000': 2,\n",
      "                               '00011001': 4,\n",
      "                               '00011010': 7,\n",
      "                               '00011011': 2,\n",
      "                               '00011100': 6,\n",
      "                               '00011101': 3,\n",
      "                               '00011110': 2,\n",
      "                               '00011111': 2,\n",
      "                               '00100000': 3,\n",
      "                               '00100001': 7,\n",
      "                               '00100010': 3,\n",
      "                               '00100011': 2,\n",
      "                               '00100100': 2,\n",
      "                               '00100101': 4,\n",
      "                               '00100110': 2,\n",
      "                               '00100111': 1,\n",
      "                               '00101001': 2,\n",
      "                               '00101010': 2,\n",
      "                               '00101011': 3,\n",
      "                               '00101100': 13,\n",
      "                               '00101101': 3,\n",
      "                               '00101110': 5,\n",
      "                               '00101111': 4,\n",
      "                               '00110000': 3,\n",
      "                               '00110001': 7,\n",
      "                               '00110010': 2,\n",
      "                               '00110011': 2,\n",
      "                               '00110100': 2,\n",
      "                               '00110101': 5,\n",
      "                               '00110110': 7,\n",
      "                               '00110111': 6,\n",
      "                               '00111000': 2,\n",
      "                               '00111001': 3,\n",
      "                               '00111010': 4,\n",
      "                               '00111011': 4,\n",
      "                               '00111100': 6,\n",
      "                               '00111101': 6,\n",
      "                               '00111110': 2,\n",
      "                               '00111111': 3,\n",
      "                               '01000000': 3,\n",
      "                               '01000001': 2,\n",
      "                               '01000010': 3,\n",
      "                               '01000011': 1,\n",
      "                               '01000110': 1,\n",
      "                               '01000111': 2,\n",
      "                               '01001000': 7,\n",
      "                               '01001001': 10,\n",
      "                               '01001010': 9,\n",
      "                               '01001011': 8,\n",
      "                               '01001100': 11,\n",
      "                               '01001101': 13,\n",
      "                               '01001110': 1,\n",
      "                               '01001111': 1,\n",
      "                               '01010000': 6,\n",
      "                               '01010001': 5,\n",
      "                               '01010010': 3,\n",
      "                               '01010011': 5,\n",
      "                               '01010100': 5,\n",
      "                               '01010110': 6,\n",
      "                               '01010111': 4,\n",
      "                               '01011000': 3,\n",
      "                               '01011001': 3,\n",
      "                               '01011010': 2,\n",
      "                               '01011011': 5,\n",
      "                               '01011100': 5,\n",
      "                               '01011101': 2,\n",
      "                               '01011110': 5,\n",
      "                               '01011111': 2,\n",
      "                               '01101000': 17,\n",
      "                               '01101001': 14,\n",
      "                               '01101010': 15,\n",
      "                               '01101011': 11,\n",
      "                               '01110000': 2,\n",
      "                               '01110001': 3,\n",
      "                               '01110010': 6,\n",
      "                               '01110011': 3,\n",
      "                               '01110100': 6,\n",
      "                               '01110101': 5,\n",
      "                               '01110110': 3,\n",
      "                               '01110111': 5,\n",
      "                               '01111000': 2,\n",
      "                               '01111001': 2,\n",
      "                               '01111010': 4,\n",
      "                               '01111011': 3,\n",
      "                               '01111100': 5,\n",
      "                               '01111101': 4,\n",
      "                               '01111110': 4,\n",
      "                               '01111111': 2,\n",
      "                               '10000000': 1,\n",
      "                               '10000010': 2,\n",
      "                               '10000011': 1,\n",
      "                               '10000100': 2,\n",
      "                               '10000101': 1,\n",
      "                               '10000110': 2,\n",
      "                               '10001000': 3,\n",
      "                               '10001010': 2,\n",
      "                               '10001011': 3,\n",
      "                               '10001100': 27,\n",
      "                               '10001101': 32,\n",
      "                               '10001110': 1,\n",
      "                               '10001111': 2,\n",
      "                               '10010000': 1,\n",
      "                               '10010001': 2,\n",
      "                               '10010010': 3,\n",
      "                               '10010011': 5,\n",
      "                               '10010100': 7,\n",
      "                               '10010101': 8,\n",
      "                               '10010110': 7,\n",
      "                               '10010111': 5,\n",
      "                               '10011000': 6,\n",
      "                               '10011001': 4,\n",
      "                               '10011010': 4,\n",
      "                               '10011011': 5,\n",
      "                               '10011100': 1,\n",
      "                               '10011101': 2,\n",
      "                               '10011110': 4,\n",
      "                               '10011111': 2,\n",
      "                               '10100001': 6,\n",
      "                               '10100010': 2,\n",
      "                               '10100011': 4,\n",
      "                               '10100100': 1,\n",
      "                               '10100101': 3,\n",
      "                               '10100110': 6,\n",
      "                               '10100111': 3,\n",
      "                               '10101000': 4,\n",
      "                               '10101001': 6,\n",
      "                               '10101010': 3,\n",
      "                               '10101011': 5,\n",
      "                               '10101100': 2,\n",
      "                               '10101101': 2,\n",
      "                               '10101110': 2,\n",
      "                               '10101111': 6,\n",
      "                               '10110000': 1,\n",
      "                               '10110001': 5,\n",
      "                               '10110010': 3,\n",
      "                               '10110011': 5,\n",
      "                               '10110100': 4,\n",
      "                               '10110101': 8,\n",
      "                               '10110110': 4,\n",
      "                               '10110111': 4,\n",
      "                               '10111000': 7,\n",
      "                               '10111001': 2,\n",
      "                               '10111010': 4,\n",
      "                               '10111011': 3,\n",
      "                               '10111100': 7,\n",
      "                               '10111101': 4,\n",
      "                               '10111110': 2,\n",
      "                               '10111111': 4,\n",
      "                               '11000000': 1,\n",
      "                               '11000010': 2,\n",
      "                               '11000011': 2,\n",
      "                               '11000100': 1,\n",
      "                               '11000101': 3,\n",
      "                               '11000110': 1,\n",
      "                               '11001000': 1,\n",
      "                               '11001001': 2,\n",
      "                               '11001010': 1,\n",
      "                               '11001110': 21,\n",
      "                               '11001111': 18,\n",
      "                               '11010000': 2,\n",
      "                               '11010001': 3,\n",
      "                               '11010010': 4,\n",
      "                               '11010011': 2,\n",
      "                               '11010100': 7,\n",
      "                               '11010101': 4,\n",
      "                               '11010110': 4,\n",
      "                               '11010111': 4,\n",
      "                               '11011000': 3,\n",
      "                               '11011001': 4,\n",
      "                               '11011010': 3,\n",
      "                               '11011011': 3,\n",
      "                               '11011100': 6,\n",
      "                               '11011110': 3,\n",
      "                               '11011111': 2,\n",
      "                               '11101100': 16,\n",
      "                               '11101101': 16,\n",
      "                               '11101110': 24,\n",
      "                               '11101111': 15,\n",
      "                               '11110000': 8,\n",
      "                               '11110001': 8,\n",
      "                               '11110010': 4,\n",
      "                               '11110011': 7,\n",
      "                               '11110100': 3,\n",
      "                               '11110101': 3,\n",
      "                               '11110110': 2,\n",
      "                               '11110111': 6,\n",
      "                               '11111000': 3,\n",
      "                               '11111001': 2,\n",
      "                               '11111010': 11,\n",
      "                               '11111011': 7,\n",
      "                               '11111100': 4,\n",
      "                               '11111101': 2,\n",
      "                               '11111110': 7,\n",
      "                               '11111111': 3},\n",
      "                           {   '00000000': 7,\n",
      "                               '00000001': 3,\n",
      "                               '00000010': 7,\n",
      "                               '00000011': 4,\n",
      "                               '00000100': 7,\n",
      "                               '00000101': 6,\n",
      "                               '00000110': 4,\n",
      "                               '00000111': 14,\n",
      "                               '00001100': 6,\n",
      "                               '00001101': 3,\n",
      "                               '00010000': 6,\n",
      "                               '00010001': 3,\n",
      "                               '00010010': 4,\n",
      "                               '00010011': 6,\n",
      "                               '00010100': 2,\n",
      "                               '00010101': 7,\n",
      "                               '00010110': 5,\n",
      "                               '00010111': 6,\n",
      "                               '00011000': 5,\n",
      "                               '00011001': 4,\n",
      "                               '00011010': 3,\n",
      "                               '00011011': 5,\n",
      "                               '00011100': 5,\n",
      "                               '00011101': 1,\n",
      "                               '00011110': 2,\n",
      "                               '00011111': 6,\n",
      "                               '00100000': 2,\n",
      "                               '00100001': 2,\n",
      "                               '00100010': 5,\n",
      "                               '00100011': 6,\n",
      "                               '00100100': 2,\n",
      "                               '00100101': 2,\n",
      "                               '00100110': 5,\n",
      "                               '00100111': 3,\n",
      "                               '00101000': 6,\n",
      "                               '00101001': 2,\n",
      "                               '00101010': 2,\n",
      "                               '00101011': 5,\n",
      "                               '00101100': 1,\n",
      "                               '00101101': 3,\n",
      "                               '00101110': 6,\n",
      "                               '00101111': 7,\n",
      "                               '00110000': 5,\n",
      "                               '00110001': 7,\n",
      "                               '00110011': 6,\n",
      "                               '00110100': 4,\n",
      "                               '00110101': 7,\n",
      "                               '00110110': 1,\n",
      "                               '00110111': 3,\n",
      "                               '00111000': 7,\n",
      "                               '00111001': 6,\n",
      "                               '00111010': 8,\n",
      "                               '00111011': 7,\n",
      "                               '00111100': 4,\n",
      "                               '00111101': 6,\n",
      "                               '00111110': 6,\n",
      "                               '00111111': 3,\n",
      "                               '01000000': 8,\n",
      "                               '01000001': 3,\n",
      "                               '01000010': 4,\n",
      "                               '01000011': 4,\n",
      "                               '01000100': 5,\n",
      "                               '01000101': 5,\n",
      "                               '01000110': 7,\n",
      "                               '01000111': 3,\n",
      "                               '01001010': 1,\n",
      "                               '01001011': 1,\n",
      "                               '01001101': 1,\n",
      "                               '01001110': 7,\n",
      "                               '01001111': 2,\n",
      "                               '01010000': 5,\n",
      "                               '01010001': 3,\n",
      "                               '01010010': 2,\n",
      "                               '01010011': 4,\n",
      "                               '01010100': 4,\n",
      "                               '01010101': 6,\n",
      "                               '01010110': 6,\n",
      "                               '01010111': 5,\n",
      "                               '01011000': 9,\n",
      "                               '01011001': 4,\n",
      "                               '01011010': 3,\n",
      "                               '01011011': 4,\n",
      "                               '01011100': 2,\n",
      "                               '01011101': 3,\n",
      "                               '01011110': 3,\n",
      "                               '01011111': 6,\n",
      "                               '01100000': 9,\n",
      "                               '01100001': 2,\n",
      "                               '01100010': 6,\n",
      "                               '01100011': 3,\n",
      "                               '01100100': 4,\n",
      "                               '01100101': 1,\n",
      "                               '01100110': 2,\n",
      "                               '01100111': 6,\n",
      "                               '01101000': 4,\n",
      "                               '01101001': 7,\n",
      "                               '01101010': 4,\n",
      "                               '01101011': 1,\n",
      "                               '01101100': 2,\n",
      "                               '01101101': 4,\n",
      "                               '01101110': 4,\n",
      "                               '01101111': 4,\n",
      "                               '01110000': 7,\n",
      "                               '01110001': 6,\n",
      "                               '01110010': 4,\n",
      "                               '01110011': 3,\n",
      "                               '01110100': 4,\n",
      "                               '01110101': 4,\n",
      "                               '01110110': 1,\n",
      "                               '01110111': 7,\n",
      "                               '01111000': 9,\n",
      "                               '01111001': 4,\n",
      "                               '01111010': 10,\n",
      "                               '01111011': 4,\n",
      "                               '01111100': 4,\n",
      "                               '01111101': 5,\n",
      "                               '01111110': 4,\n",
      "                               '01111111': 6,\n",
      "                               '10000000': 1,\n",
      "                               '10000100': 1,\n",
      "                               '10000101': 1,\n",
      "                               '10001100': 39,\n",
      "                               '10001101': 26,\n",
      "                               '10010000': 5,\n",
      "                               '10010001': 2,\n",
      "                               '10010010': 6,\n",
      "                               '10010011': 4,\n",
      "                               '10010100': 7,\n",
      "                               '10010101': 4,\n",
      "                               '10010110': 6,\n",
      "                               '10010111': 4,\n",
      "                               '10011000': 3,\n",
      "                               '10011001': 5,\n",
      "                               '10011010': 2,\n",
      "                               '10011011': 3,\n",
      "                               '10011100': 4,\n",
      "                               '10011110': 3,\n",
      "                               '10011111': 2,\n",
      "                               '10100000': 1,\n",
      "                               '10100001': 5,\n",
      "                               '10100010': 6,\n",
      "                               '10100011': 2,\n",
      "                               '10100100': 6,\n",
      "                               '10100101': 3,\n",
      "                               '10100110': 3,\n",
      "                               '10100111': 6,\n",
      "                               '10101000': 4,\n",
      "                               '10101001': 3,\n",
      "                               '10101010': 7,\n",
      "                               '10101011': 4,\n",
      "                               '10101100': 4,\n",
      "                               '10101101': 4,\n",
      "                               '10101110': 4,\n",
      "                               '10101111': 2,\n",
      "                               '10110000': 3,\n",
      "                               '10110001': 5,\n",
      "                               '10110010': 1,\n",
      "                               '10110011': 1,\n",
      "                               '10110100': 8,\n",
      "                               '10110101': 3,\n",
      "                               '10110110': 2,\n",
      "                               '10110111': 2,\n",
      "                               '10111000': 6,\n",
      "                               '10111001': 3,\n",
      "                               '10111010': 4,\n",
      "                               '10111011': 4,\n",
      "                               '10111100': 2,\n",
      "                               '10111101': 2,\n",
      "                               '10111110': 2,\n",
      "                               '10111111': 3,\n",
      "                               '11000000': 1,\n",
      "                               '11000010': 1,\n",
      "                               '11001110': 36,\n",
      "                               '11001111': 34,\n",
      "                               '11010000': 7,\n",
      "                               '11010001': 4,\n",
      "                               '11010010': 4,\n",
      "                               '11010011': 4,\n",
      "                               '11010100': 3,\n",
      "                               '11010101': 5,\n",
      "                               '11010110': 4,\n",
      "                               '11010111': 4,\n",
      "                               '11011000': 5,\n",
      "                               '11011001': 4,\n",
      "                               '11011010': 6,\n",
      "                               '11011011': 5,\n",
      "                               '11011100': 4,\n",
      "                               '11011101': 2,\n",
      "                               '11011110': 3,\n",
      "                               '11011111': 6,\n",
      "                               '11100000': 7,\n",
      "                               '11100001': 2,\n",
      "                               '11100010': 6,\n",
      "                               '11100011': 2,\n",
      "                               '11100100': 3,\n",
      "                               '11100101': 2,\n",
      "                               '11100110': 3,\n",
      "                               '11100111': 4,\n",
      "                               '11101000': 5,\n",
      "                               '11101001': 2,\n",
      "                               '11101010': 4,\n",
      "                               '11101011': 4,\n",
      "                               '11101100': 5,\n",
      "                               '11101110': 3,\n",
      "                               '11101111': 5,\n",
      "                               '11110000': 3,\n",
      "                               '11110001': 4,\n",
      "                               '11110010': 2,\n",
      "                               '11110011': 5,\n",
      "                               '11110100': 1,\n",
      "                               '11110101': 3,\n",
      "                               '11110110': 3,\n",
      "                               '11111000': 4,\n",
      "                               '11111001': 3,\n",
      "                               '11111010': 2,\n",
      "                               '11111011': 3,\n",
      "                               '11111100': 6,\n",
      "                               '11111101': 4,\n",
      "                               '11111110': 2,\n",
      "                               '11111111': 2},\n",
      "                           {   '00001000': 10,\n",
      "                               '00001001': 5,\n",
      "                               '00001010': 7,\n",
      "                               '00001011': 20,\n",
      "                               '00001110': 15,\n",
      "                               '00001111': 9,\n",
      "                               '00010000': 1,\n",
      "                               '00010001': 5,\n",
      "                               '00010010': 8,\n",
      "                               '00010011': 6,\n",
      "                               '00010100': 2,\n",
      "                               '00010101': 1,\n",
      "                               '00010110': 5,\n",
      "                               '00010111': 3,\n",
      "                               '00011000': 5,\n",
      "                               '00011001': 3,\n",
      "                               '00011010': 2,\n",
      "                               '00011011': 3,\n",
      "                               '00011100': 2,\n",
      "                               '00011101': 2,\n",
      "                               '00011110': 6,\n",
      "                               '00011111': 4,\n",
      "                               '00100000': 1,\n",
      "                               '00100001': 2,\n",
      "                               '00100010': 6,\n",
      "                               '00100011': 8,\n",
      "                               '00100100': 5,\n",
      "                               '00100101': 2,\n",
      "                               '00100111': 2,\n",
      "                               '00101000': 5,\n",
      "                               '00101001': 4,\n",
      "                               '00101010': 6,\n",
      "                               '00101011': 4,\n",
      "                               '00101100': 4,\n",
      "                               '00101101': 9,\n",
      "                               '00101110': 9,\n",
      "                               '00101111': 5,\n",
      "                               '00110000': 2,\n",
      "                               '00110001': 1,\n",
      "                               '00110010': 3,\n",
      "                               '00110011': 5,\n",
      "                               '00110100': 4,\n",
      "                               '00110101': 6,\n",
      "                               '00110110': 4,\n",
      "                               '00110111': 4,\n",
      "                               '00111000': 3,\n",
      "                               '00111001': 4,\n",
      "                               '00111010': 4,\n",
      "                               '00111011': 5,\n",
      "                               '00111100': 4,\n",
      "                               '00111101': 5,\n",
      "                               '00111110': 4,\n",
      "                               '00111111': 3,\n",
      "                               '01001000': 6,\n",
      "                               '01001001': 10,\n",
      "                               '01001010': 14,\n",
      "                               '01001011': 8,\n",
      "                               '01001100': 11,\n",
      "                               '01001101': 8,\n",
      "                               '01001110': 1,\n",
      "                               '01010000': 5,\n",
      "                               '01010001': 4,\n",
      "                               '01010010': 4,\n",
      "                               '01010011': 4,\n",
      "                               '01010100': 5,\n",
      "                               '01010101': 8,\n",
      "                               '01010110': 7,\n",
      "                               '01010111': 2,\n",
      "                               '01011000': 3,\n",
      "                               '01011001': 3,\n",
      "                               '01011010': 6,\n",
      "                               '01011011': 8,\n",
      "                               '01011100': 8,\n",
      "                               '01011101': 4,\n",
      "                               '01011110': 2,\n",
      "                               '01011111': 2,\n",
      "                               '01100000': 4,\n",
      "                               '01100001': 6,\n",
      "                               '01100010': 1,\n",
      "                               '01100011': 7,\n",
      "                               '01100100': 5,\n",
      "                               '01100101': 6,\n",
      "                               '01100110': 4,\n",
      "                               '01100111': 2,\n",
      "                               '01101000': 6,\n",
      "                               '01101001': 3,\n",
      "                               '01101010': 1,\n",
      "                               '01101011': 4,\n",
      "                               '01101100': 3,\n",
      "                               '01101101': 6,\n",
      "                               '01101110': 3,\n",
      "                               '01101111': 3,\n",
      "                               '01110000': 5,\n",
      "                               '01110001': 6,\n",
      "                               '01110010': 10,\n",
      "                               '01110011': 2,\n",
      "                               '01110100': 2,\n",
      "                               '01110101': 4,\n",
      "                               '01110110': 3,\n",
      "                               '01110111': 2,\n",
      "                               '01111000': 4,\n",
      "                               '01111001': 3,\n",
      "                               '01111010': 7,\n",
      "                               '01111011': 4,\n",
      "                               '01111100': 7,\n",
      "                               '01111101': 5,\n",
      "                               '01111110': 3,\n",
      "                               '01111111': 5,\n",
      "                               '10000000': 3,\n",
      "                               '10000001': 1,\n",
      "                               '10000010': 2,\n",
      "                               '10000011': 4,\n",
      "                               '10000100': 3,\n",
      "                               '10000101': 3,\n",
      "                               '10000111': 2,\n",
      "                               '10001000': 4,\n",
      "                               '10001001': 2,\n",
      "                               '10001010': 2,\n",
      "                               '10001011': 2,\n",
      "                               '10001100': 6,\n",
      "                               '10001101': 14,\n",
      "                               '10001110': 3,\n",
      "                               '10001111': 2,\n",
      "                               '10010000': 2,\n",
      "                               '10010001': 3,\n",
      "                               '10010010': 5,\n",
      "                               '10010011': 2,\n",
      "                               '10010100': 3,\n",
      "                               '10010101': 5,\n",
      "                               '10010110': 5,\n",
      "                               '10010111': 4,\n",
      "                               '10011000': 3,\n",
      "                               '10011001': 4,\n",
      "                               '10011010': 2,\n",
      "                               '10011011': 4,\n",
      "                               '10011100': 2,\n",
      "                               '10011101': 5,\n",
      "                               '10011110': 2,\n",
      "                               '10011111': 3,\n",
      "                               '10100000': 3,\n",
      "                               '10100001': 4,\n",
      "                               '10100010': 5,\n",
      "                               '10100011': 2,\n",
      "                               '10100100': 8,\n",
      "                               '10100101': 5,\n",
      "                               '10100110': 5,\n",
      "                               '10100111': 2,\n",
      "                               '10101000': 2,\n",
      "                               '10101001': 2,\n",
      "                               '10101010': 4,\n",
      "                               '10101011': 7,\n",
      "                               '10101100': 2,\n",
      "                               '10101101': 5,\n",
      "                               '10101110': 4,\n",
      "                               '10101111': 2,\n",
      "                               '10110000': 1,\n",
      "                               '10110001': 3,\n",
      "                               '10110010': 7,\n",
      "                               '10110011': 7,\n",
      "                               '10110100': 2,\n",
      "                               '10110101': 5,\n",
      "                               '10110110': 4,\n",
      "                               '10110111': 9,\n",
      "                               '10111000': 5,\n",
      "                               '10111001': 1,\n",
      "                               '10111010': 2,\n",
      "                               '10111011': 2,\n",
      "                               '10111100': 5,\n",
      "                               '10111101': 2,\n",
      "                               '10111110': 5,\n",
      "                               '10111111': 3,\n",
      "                               '11000000': 1,\n",
      "                               '11000001': 3,\n",
      "                               '11000010': 1,\n",
      "                               '11000011': 5,\n",
      "                               '11000100': 6,\n",
      "                               '11000101': 4,\n",
      "                               '11000110': 1,\n",
      "                               '11000111': 2,\n",
      "                               '11001000': 2,\n",
      "                               '11001001': 6,\n",
      "                               '11001010': 2,\n",
      "                               '11001011': 1,\n",
      "                               '11001100': 5,\n",
      "                               '11001101': 2,\n",
      "                               '11001110': 10,\n",
      "                               '11001111': 16,\n",
      "                               '11010000': 2,\n",
      "                               '11010001': 8,\n",
      "                               '11010010': 1,\n",
      "                               '11010011': 5,\n",
      "                               '11010100': 1,\n",
      "                               '11010101': 4,\n",
      "                               '11010110': 5,\n",
      "                               '11010111': 7,\n",
      "                               '11011000': 7,\n",
      "                               '11011001': 2,\n",
      "                               '11011010': 4,\n",
      "                               '11011011': 2,\n",
      "                               '11011100': 9,\n",
      "                               '11011101': 3,\n",
      "                               '11011110': 5,\n",
      "                               '11011111': 4,\n",
      "                               '11100000': 7,\n",
      "                               '11100001': 2,\n",
      "                               '11100010': 8,\n",
      "                               '11100011': 4,\n",
      "                               '11100100': 5,\n",
      "                               '11100101': 3,\n",
      "                               '11100110': 8,\n",
      "                               '11100111': 4,\n",
      "                               '11101000': 5,\n",
      "                               '11101001': 2,\n",
      "                               '11101010': 4,\n",
      "                               '11101011': 1,\n",
      "                               '11101100': 5,\n",
      "                               '11101101': 2,\n",
      "                               '11101110': 4,\n",
      "                               '11101111': 4,\n",
      "                               '11110000': 4,\n",
      "                               '11110001': 7,\n",
      "                               '11110010': 1,\n",
      "                               '11110011': 3,\n",
      "                               '11110100': 7,\n",
      "                               '11110101': 2,\n",
      "                               '11110110': 8,\n",
      "                               '11110111': 3,\n",
      "                               '11111000': 6,\n",
      "                               '11111001': 4,\n",
      "                               '11111010': 6,\n",
      "                               '11111011': 2,\n",
      "                               '11111100': 1,\n",
      "                               '11111101': 3,\n",
      "                               '11111110': 3,\n",
      "                               '11111111': 2}],\n",
      "    'iterations': [0, 1, 2, 3],\n",
      "    'max_probability': 0.01953125,\n",
      "    'oracle_evaluation': True,\n",
      "    'top_measurement': '00001011'}\n"
     ]
    }
   ],
   "source": [
    "print(result)"
   ]
  },
  {
   "cell_type": "markdown",
   "metadata": {
    "jp-MarkdownHeadingCollapsed": true,
    "tags": []
   },
   "source": [
    "### tmp"
   ]
  },
  {
   "cell_type": "code",
   "execution_count": 16,
   "metadata": {},
   "outputs": [],
   "source": [
    "def put_const_8bit(circuit, const, shift):\n",
    "    print(const, '->', np.unpackbits(np.uint8(const)))\n",
    "    for idx, bit in enumerate(np.unpackbits(np.uint8(const))):\n",
    "        if bit:\n",
    "            circuit.x(shift + idx)\n",
    "            \n",
    "def sum_8bit(circuit):\n",
    "    shift = 8\n",
    "    \n",
    "    for digit in range(8):\n",
    "        target_qbit = 3 * shift - 1 - digit\n",
    "        carry_idx = 4*shift-1 -digit\n",
    "        circuit.cx(shift - 1 - digit, target_qbit)\n",
    "        circuit.cx(2*shift - 1 - digit, target_qbit)\n",
    "        #carry\n",
    "        # Add value from the previous carry register\n",
    "        if digit:\n",
    "            circuit.cx(carry_idx + 1, target_qbit)\n",
    "        # Write A & B value to register\n",
    "        circuit.ccx(shift -1 - digit,2*shift - 1 - digit, carry_idx)\n",
    "        OR(2)\n",
    "        circuit.append(OR(2),[)\n",
    "        \n",
    "        "
   ]
  },
  {
   "cell_type": "code",
   "execution_count": 29,
   "metadata": {},
   "outputs": [
    {
     "name": "stdout",
     "output_type": "stream",
     "text": [
      "0 -> [0 0 0 0 0 0 0 0]\n",
      "0 -> [0 0 0 0 0 0 0 0]\n"
     ]
    },
    {
     "data": {
      "image/png": "[encoded data removed]",
      "text/plain": [
       "<Figure size 1604.87x4177.88 with 1 Axes>"
      ]
     },
     "execution_count": 29,
     "metadata": {},
     "output_type": "execute_result"
    }
   ],
   "source": [
    "from qiskit import QuantumCircuit, assemble, Aer\n",
    "from qiskit.circuit.library import IntegerComparator\n",
    "from qiskit.visualization import plot_bloch_multivector, plot_histogram\n",
    "from qiskit.circuit.library.boolean_logic.quantum_or import OR\n",
    "import numpy as np\n",
    "\n",
    "qbits_n = 8\n",
    "bits_n = 8\n",
    "oracle = QuantumCircuit(qbits_n, bits_n)\n",
    "#for i in range(qbits_n):\n",
    "#    oracle.h(i)\n",
    "oracle.x(0)\n",
    "\n",
    "cmp = QuantumCircuit(4*qbits_n+1, bits_n)\n",
    "\n",
    "# Specify constant on qbits q8-q15\n",
    "# for example let it be 10\n",
    "# signet int8!\n",
    "put_const_8bit(cmp, 0, 8)\n",
    "        \n",
    "# specify value from func output, ex 3\n",
    "put_const_8bit(cmp, 0, 0)\n",
    "\n",
    "sum_8bit(cmp)\n",
    "\n",
    "shift = 23\n",
    "for idx in range(8):\n",
    "    cmp.measure(shift - idx, idx)\n",
    "\n",
    "\n",
    "sim = Aer.get_backend('aer_simulator')\n",
    "qobj = assemble(cmp)\n",
    "counts = sim.run(qobj).result().get_counts()  # Do the simulation, returning the state vector\n",
    "plot_histogram(counts)\n",
    "or_ = OR(2)\n",
    "#or_.draw()\n",
    "cmp.append(or_, [0, 1, 2])\n",
    "cmp.draw()"
   ]
  },
  {
   "cell_type": "code",
   "execution_count": 55,
   "metadata": {},
   "outputs": [
    {
     "data": {
      "text/plain": [
       "0"
      ]
     },
     "execution_count": 55,
     "metadata": {},
     "output_type": "execute_result"
    }
   ],
   "source": []
  },
  {
   "cell_type": "code",
   "execution_count": 32,
   "metadata": {},
   "outputs": [
    {
     "data": {
      "text/plain": [
       "qiskit.circuit.library.arithmetic.integer_comparator.IntegerComparator"
      ]
     },
     "execution_count": 32,
     "metadata": {},
     "output_type": "execute_result"
    }
   ],
   "source": [
    "IntegerComparator"
   ]
  },
  {
   "cell_type": "code",
   "execution_count": 1,
   "metadata": {},
   "outputs": [
    {
     "data": {
      "image/png": "[encoded data removed]",
      "text/plain": [
       "<Figure size 186.168x144.48 with 1 Axes>"
      ]
     },
     "execution_count": 1,
     "metadata": {},
     "output_type": "execute_result"
    }
   ],
   "source": [
    "from qiskit import QuantumCircuit\n",
    "from qiskit.algorithms import AmplificationProblem\n",
    "\n",
    "# the state we desire to find is '11'\n",
    "good_state = ['11']\n",
    "\n",
    "# specify the oracle that marks the state '11' as a good solution\n",
    "oracle = QuantumCircuit(2)\n",
    "oracle.cz(0, 1)\n",
    "\n",
    "# define Grover's algorithm\n",
    "problem = AmplificationProblem(oracle, is_good_state=good_state)\n",
    "\n",
    "# now we can have a look at the Grover operator that is used in running the algorithm\n",
    "problem.grover_operator.draw(output='mpl')"
   ]
  },
  {
   "cell_type": "markdown",
   "metadata": {},
   "source": [
    "Then, we specify a backend and call the `run` method of `Grover` with a backend to execute the circuits. The returned result type is a `GroverResult`. \n",
    "\n",
    "If the search was successful, the `oracle_evaluation` attribute of the result will be `True`. In this case, the most sampled measurement, `top_measurement`, is one of the \"good states\". Otherwise, `oracle_evaluation` will be False.\n"
   ]
  },
  {
   "cell_type": "code",
   "execution_count": 2,
   "metadata": {},
   "outputs": [
    {
     "name": "stdout",
     "output_type": "stream",
     "text": [
      "Result type: <class 'qiskit.algorithms.amplitude_amplifiers.grover.GroverResult'>\n",
      "\n",
      "Success!\n",
      "Top measurement: 11\n"
     ]
    }
   ],
   "source": [
    "from qiskit import Aer\n",
    "from qiskit.utils import QuantumInstance\n",
    "from qiskit.algorithms import Grover\n",
    "\n",
    "aer_simulator = Aer.get_backend('aer_simulator')\n",
    "grover = Grover(quantum_instance=aer_simulator)\n",
    "result = grover.amplify(problem)\n",
    "print('Result type:', type(result))\n",
    "print()\n",
    "print('Success!' if result.oracle_evaluation else 'Failure!')\n",
    "print('Top measurement:', result.top_measurement)"
   ]
  },
  {
   "cell_type": "markdown",
   "metadata": {},
   "source": [
    "In the example, the result of `top_measurement` is `11` which is one of \"good state\". Thus, we succeeded to find the answer by using `Grover`."
   ]
  },
  {
   "cell_type": "code",
   "execution_count": 3,
   "metadata": {},
   "outputs": [
    {
     "name": "stdout",
     "output_type": "stream",
     "text": [
      "Result type: <class 'qiskit.algorithms.amplitude_amplifiers.grover.GroverResult'>\n",
      "\n",
      "Success!\n",
      "Top measurement: 11\n"
     ]
    }
   ],
   "source": [
    "from qiskit.quantum_info import Statevector\n",
    "oracle = Statevector.from_label('11')\n",
    "problem = AmplificationProblem(oracle, is_good_state=['11'])\n",
    "\n",
    "grover = Grover(quantum_instance=aer_simulator)\n",
    "result = grover.amplify(problem)\n",
    "print('Result type:', type(result))\n",
    "print()\n",
    "print('Success!' if result.oracle_evaluation else 'Failure!')\n",
    "print('Top measurement:', result.top_measurement)"
   ]
  },
  {
   "cell_type": "markdown",
   "metadata": {},
   "source": [
    "Internally, the statevector is mapped to a quantum circuit:"
   ]
  },
  {
   "cell_type": "code",
   "execution_count": 4,
   "metadata": {},
   "outputs": [
    {
     "data": {
      "image/png": "[encoded data removed]",
      "text/plain": [
       "<Figure size 206.852x144.48 with 1 Axes>"
      ]
     },
     "execution_count": 4,
     "metadata": {},
     "output_type": "execute_result"
    }
   ],
   "source": [
    "problem.grover_operator.oracle.draw(output='mpl')"
   ]
  },
  {
   "cell_type": "markdown",
   "metadata": {},
   "source": [
    "Qiskit allows for an easy construction of more complex oracles:\n",
    "* `PhaseOracle`: for parsing logical expressions such as `'~a | b'`. This is especially useful for solving 3-SAT problems and is shown in the accompanying [Grover Examples](07_grover_examples.ipynb) tutorial.\n",
    "\n",
    "Here we'll use the `PhaseOracle` for the simple example of finding the state $|11\\rangle$, which corresponds to `'a & b'`."
   ]
  },
  {
   "cell_type": "code",
   "execution_count": 5,
   "metadata": {
    "tags": []
   },
   "outputs": [
    {
     "data": {
      "image/png": "[encoded data removed]",
      "text/plain": [
       "<Figure size 146.652x144.48 with 1 Axes>"
      ]
     },
     "metadata": {},
     "output_type": "display_data"
    }
   ],
   "source": [
    "from qiskit.circuit.library.phase_oracle import PhaseOracle\n",
    "from qiskit.exceptions import MissingOptionalLibraryError\n",
    "\n",
    "# `Oracle` (`PhaseOracle`) as the `oracle` argument\n",
    "expression = '(a & b)'\n",
    "try:\n",
    "    oracle = PhaseOracle(expression)\n",
    "    problem = AmplificationProblem(oracle)\n",
    "    display(problem.grover_operator.oracle.draw(output='mpl'))\n",
    "except MissingOptionalLibraryError as ex:\n",
    "    print(ex)"
   ]
  },
  {
   "cell_type": "markdown",
   "metadata": {
    "tags": []
   },
   "source": [
    "You can observe, that this oracle is actually implemented with three qubits instead of two!\n",
    "\n",
    "That is because the `PhaseOracle` is not a phase-flip oracle (which flips the phase of the good state) but a bit-flip oracle. This means it flips the state of an auxiliary qubit if the other qubits satisfy the condition.\n",
    "For Grover's algorithm, however, we require a phase-flip oracle. To convert the bit-flip oracle to a phase-flip oracle we sandwich the controlled-NOT by $X$ and $H$ gates, as you can see in the circuit above.\n",
    "\n",
    "**Note:** This transformation from a bit-flip to a phase-flip oracle holds generally and you can use this to convert your oracle to the right representation."
   ]
  },
  {
   "cell_type": "code",
   "execution_count": 6,
   "metadata": {
    "tags": []
   },
   "outputs": [
    {
     "name": "stdout",
     "output_type": "stream",
     "text": [
      "state preparation circuit:\n"
     ]
    },
    {
     "data": {
      "image/png": "[encoded data removed]",
      "text/plain": [
       "<Figure size 267.197x204.68 with 1 Axes>"
      ]
     },
     "execution_count": 6,
     "metadata": {},
     "output_type": "execute_result"
    }
   ],
   "source": [
    "import numpy as np\n",
    "\n",
    "# Specifying `state_preparation` \n",
    "# to prepare a superposition of |01>, |10>, and |11>\n",
    "oracle = QuantumCircuit(3)\n",
    "oracle.h(2)\n",
    "oracle.ccx(0,1,2)\n",
    "oracle.h(2)\n",
    "\n",
    "theta = 2 * np.arccos(1 / np.sqrt(3))\n",
    "state_preparation = QuantumCircuit(3)\n",
    "state_preparation.ry(theta, 0)\n",
    "state_preparation.ch(0,1)\n",
    "state_preparation.x(1)\n",
    "state_preparation.h(2)\n",
    "\n",
    "# we only care about the first two bits being in state 1, thus add both possibilities for the last qubit\n",
    "problem = AmplificationProblem(oracle, state_preparation=state_preparation, is_good_state=['110', '111'])\n",
    "\n",
    "# state_preparation\n",
    "print('state preparation circuit:')\n",
    "problem.grover_operator.state_preparation.draw(output='mpl')"
   ]
  },
  {
   "cell_type": "code",
   "execution_count": 7,
   "metadata": {},
   "outputs": [
    {
     "name": "stdout",
     "output_type": "stream",
     "text": [
      "Success!\n",
      "Top measurement: 111\n"
     ]
    }
   ],
   "source": [
    "grover = Grover(quantum_instance=aer_simulator)\n",
    "result = grover.amplify(problem)\n",
    "print('Success!' if result.oracle_evaluation else 'Failure!')\n",
    "print('Top measurement:', result.top_measurement)"
   ]
  },
  {
   "cell_type": "markdown",
   "metadata": {},
   "source": [
    "For instance, imagine the good state is a three qubit state $|111\\rangle$ but we used 2 additional qubits as auxiliary qubits. "
   ]
  },
  {
   "cell_type": "code",
   "execution_count": 8,
   "metadata": {
    "tags": []
   },
   "outputs": [
    {
     "data": {
      "image/png": "[encoded data removed]",
      "text/plain": [
       "<Figure size 146.797x325.08 with 1 Axes>"
      ]
     },
     "execution_count": 8,
     "metadata": {},
     "output_type": "execute_result"
    }
   ],
   "source": [
    "from qiskit.circuit.library import GroverOperator, ZGate\n",
    "\n",
    "oracle = QuantumCircuit(5)\n",
    "oracle.append(ZGate().control(2), [0, 1, 2])\n",
    "oracle.draw(output='mpl')"
   ]
  },
  {
   "cell_type": "markdown",
   "metadata": {},
   "source": [
    "Then, per default, the Grover operator implements the zero reflection on all five qubits."
   ]
  },
  {
   "cell_type": "code",
   "execution_count": 9,
   "metadata": {
    "tags": [
     "nbsphinx-thumbnail"
    ]
   },
   "outputs": [
    {
     "data": {
      "image/png": "[encoded data removed]",
      "text/plain": [
       "<Figure size 186.314x325.08 with 1 Axes>"
      ]
     },
     "execution_count": 9,
     "metadata": {},
     "output_type": "execute_result"
    }
   ],
   "source": [
    "grover_op = GroverOperator(oracle, insert_barriers=True)\n",
    "grover_op.draw(output='mpl')"
   ]
  },
  {
   "cell_type": "markdown",
   "metadata": {},
   "source": [
    "But we know that we only need to consider the first three:"
   ]
  },
  {
   "cell_type": "code",
   "execution_count": 10,
   "metadata": {},
   "outputs": [
    {
     "data": {
      "image/png": "[encoded data removed]",
      "text/plain": [
       "<Figure size 186.314x325.08 with 1 Axes>"
      ]
     },
     "execution_count": 10,
     "metadata": {},
     "output_type": "execute_result"
    }
   ],
   "source": [
    "grover_op = GroverOperator(oracle, reflection_qubits=[0, 1, 2], insert_barriers=True)\n",
    "grover_op.draw(output='mpl')"
   ]
  },
  {
   "cell_type": "code",
   "execution_count": 11,
   "metadata": {
    "tags": []
   },
   "outputs": [
    {
     "name": "stdout",
     "output_type": "stream",
     "text": [
      "True\n"
     ]
    }
   ],
   "source": [
    "# a list of binary strings good state\n",
    "oracle = QuantumCircuit(2)\n",
    "oracle.cz(0, 1)\n",
    "good_state = ['11', '00']\n",
    "problem = AmplificationProblem(oracle, is_good_state=good_state)\n",
    "print(problem.is_good_state('11'))"
   ]
  },
  {
   "cell_type": "code",
   "execution_count": 12,
   "metadata": {},
   "outputs": [
    {
     "name": "stdout",
     "output_type": "stream",
     "text": [
      "True\n"
     ]
    }
   ],
   "source": [
    "# a list of integer good state\n",
    "oracle = QuantumCircuit(2)\n",
    "oracle.cz(0, 1)\n",
    "good_state = [0, 1]\n",
    "problem = AmplificationProblem(oracle, is_good_state=good_state)\n",
    "print(problem.is_good_state('11'))"
   ]
  },
  {
   "cell_type": "code",
   "execution_count": 13,
   "metadata": {
    "tags": []
   },
   "outputs": [
    {
     "name": "stdout",
     "output_type": "stream",
     "text": [
      "True\n"
     ]
    }
   ],
   "source": [
    "from qiskit.quantum_info import Statevector\n",
    "\n",
    "# `Statevector` good state\n",
    "oracle = QuantumCircuit(2)\n",
    "oracle.cz(0, 1)\n",
    "good_state = Statevector.from_label('11')\n",
    "problem = AmplificationProblem(oracle, is_good_state=good_state)\n",
    "print(problem.is_good_state('11'))"
   ]
  },
  {
   "cell_type": "code",
   "execution_count": 14,
   "metadata": {
    "tags": []
   },
   "outputs": [
    {
     "name": "stdout",
     "output_type": "stream",
     "text": [
      "True\n"
     ]
    }
   ],
   "source": [
    "# Callable good state\n",
    "def callable_good_state(bitstr):\n",
    "    if bitstr == \"11\":\n",
    "        return True\n",
    "    return False\n",
    "\n",
    "oracle = QuantumCircuit(2)\n",
    "oracle.cz(0, 1)\n",
    "problem = AmplificationProblem(oracle, is_good_state=good_state)\n",
    "print(problem.is_good_state('11'))"
   ]
  },
  {
   "cell_type": "code",
   "execution_count": 15,
   "metadata": {},
   "outputs": [],
   "source": [
    "# integer iteration\n",
    "oracle = QuantumCircuit(2)\n",
    "oracle.cz(0, 1)\n",
    "problem = AmplificationProblem(oracle, is_good_state=['11'])\n",
    "grover = Grover(iterations=1)"
   ]
  },
  {
   "cell_type": "code",
   "execution_count": 16,
   "metadata": {},
   "outputs": [],
   "source": [
    "# list iteration\n",
    "oracle = QuantumCircuit(2)\n",
    "oracle.cz(0, 1)\n",
    "problem = AmplificationProblem(oracle, is_good_state=['11'])\n",
    "grover = Grover(iterations=[1, 2, 3])"
   ]
  },
  {
   "cell_type": "code",
   "execution_count": 17,
   "metadata": {},
   "outputs": [],
   "source": [
    "# using sample_from_iterations\n",
    "oracle = QuantumCircuit(2)\n",
    "oracle.cz(0, 1)\n",
    "problem = AmplificationProblem(oracle, is_good_state=['11'])\n",
    "grover = Grover(iterations=[1, 2, 3], sample_from_iterations=True)"
   ]
  },
  {
   "cell_type": "markdown",
   "metadata": {},
   "source": [
    "When the number of solutions is known, we can also use a static method `optimal_num_iterations` to find the optimal number of iterations. Note that the output iterations is an approximate value. When the number of qubits is small, the output iterations may not be optimal.\n"
   ]
  },
  {
   "cell_type": "code",
   "execution_count": 18,
   "metadata": {},
   "outputs": [
    {
     "data": {
      "text/plain": [
       "12"
      ]
     },
     "execution_count": 18,
     "metadata": {},
     "output_type": "execute_result"
    }
   ],
   "source": [
    "iterations = Grover.optimal_num_iterations(num_solutions=1, num_qubits=8)\n",
    "iterations"
   ]
  },
  {
   "cell_type": "code",
   "execution_count": 20,
   "metadata": {},
   "outputs": [
    {
     "data": {
      "text/plain": [
       "[1, -2, 3]"
      ]
     },
     "execution_count": 20,
     "metadata": {},
     "output_type": "execute_result"
    }
   ],
   "source": [
    "def to_DIAMACS_CNF_format(bit_rep):\n",
    "    return [index+1 if val==1 else -1 * (index + 1) for index, val in enumerate(bit_rep)]\n",
    "\n",
    "oracle = QuantumCircuit(2)\n",
    "oracle.cz(0, 1)\n",
    "problem = AmplificationProblem(oracle, is_good_state=['11'], post_processing=to_DIAMACS_CNF_format)\n",
    "problem.post_processing([1, 0, 1])"
   ]
  },
  {
   "cell_type": "code",
   "execution_count": 21,
   "metadata": {},
   "outputs": [
    {
     "name": "stderr",
     "output_type": "stream",
     "text": [
      "/opt/conda/lib/python3.8/site-packages/qiskit/aqua/__init__.py:86: DeprecationWarning: The package qiskit.aqua is deprecated. It was moved/refactored to qiskit-terra For more information see <https://github.com/Qiskit/qiskit-aqua/blob/main/README.md#migration-guide>\n",
      "  warn_package('aqua', 'qiskit-terra')\n"
     ]
    },
    {
     "data": {
      "text/html": [
       "<h3>Version Information</h3><table><tr><th>Qiskit Software</th><th>Version</th></tr><tr><td><code>qiskit-terra</code></td><td>0.18.3</td></tr><tr><td><code>qiskit-aer</code></td><td>0.9.1</td></tr><tr><td><code>qiskit-ignis</code></td><td>0.6.0</td></tr><tr><td><code>qiskit-ibmq-provider</code></td><td>0.18.1</td></tr><tr><td><code>qiskit-aqua</code></td><td>0.9.5</td></tr><tr><td><code>qiskit</code></td><td>0.32.1</td></tr><tr><td><code>qiskit-nature</code></td><td>0.2.2</td></tr><tr><td><code>qiskit-finance</code></td><td>0.2.1</td></tr><tr><td><code>qiskit-optimization</code></td><td>0.2.3</td></tr><tr><td><code>qiskit-machine-learning</code></td><td>0.2.1</td></tr><tr><th>System information</th></tr><tr><td>Python</td><td>3.8.10 | packaged by conda-forge | (default, May 11 2021, 07:01:05) \n",
       "[GCC 9.3.0]</td></tr><tr><td>OS</td><td>Linux</td></tr><tr><td>CPUs</td><td>8</td></tr><tr><td>Memory (Gb)</td><td>31.408954620361328</td></tr><tr><td colspan='2'>Wed Nov 24 17:05:58 2021 UTC</td></tr></table>"
      ],
      "text/plain": [
       "<IPython.core.display.HTML object>"
      ]
     },
     "metadata": {},
     "output_type": "display_data"
    },
    {
     "data": {
      "text/html": [
       "<div style='width: 100%; background-color:#d5d9e0;padding-left: 10px; padding-bottom: 10px; padding-right: 10px; padding-top: 5px'><h3>This code is a part of Qiskit</h3><p>&copy; Copyright IBM 2017, 2021.</p><p>This code is licensed under the Apache License, Version 2.0. You may<br>obtain a copy of this license in the LICENSE.txt file in the root directory<br> of this source tree or at http://www.apache.org/licenses/LICENSE-2.0.<p>Any modifications or derivative works of this code must retain this<br>copyright notice, and modified files need to carry a notice indicating<br>that they have been altered from the originals.</p></div>"
      ],
      "text/plain": [
       "<IPython.core.display.HTML object>"
      ]
     },
     "metadata": {},
     "output_type": "display_data"
    }
   ],
   "source": [
    "import qiskit.tools.jupyter\n",
    "%qiskit_version_table\n",
    "%qiskit_copyright"
   ]
  },
  {
   "cell_type": "code",
   "execution_count": null,
   "metadata": {},
   "outputs": [],
   "source": []
  }
 ],
 "metadata": {
  "kernelspec": {
   "display_name": "Qiskit v0.33.1 (ipykernel)",
   "language": "python",
   "name": "python3"
  },
  "language_info": {
   "codemirror_mode": {
    "name": "ipython",
    "version": 3
   },
   "file_extension": ".py",
   "mimetype": "text/x-python",
   "name": "python",
   "nbconvert_exporter": "python",
   "pygments_lexer": "ipython3",
   "version": "3.8.10"
  },
  "widgets": {
   "application/vnd.jupyter.widget-state+json": {
    "state": {},
    "version_major": 2,
    "version_minor": 0
   }
  }
 },
 "nbformat": 4,
 "nbformat_minor": 4
}
